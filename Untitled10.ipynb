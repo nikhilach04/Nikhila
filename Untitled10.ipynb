{
  "nbformat": 4,
  "nbformat_minor": 0,
  "metadata": {
    "colab": {
      "provenance": [],
      "authorship_tag": "ABX9TyM11PcTyGz5r9VvG2lrfGt3",
      "include_colab_link": true
    },
    "kernelspec": {
      "name": "python3",
      "display_name": "Python 3"
    },
    "language_info": {
      "name": "python"
    }
  },
  "cells": [
    {
      "cell_type": "markdown",
      "metadata": {
        "id": "view-in-github",
        "colab_type": "text"
      },
      "source": [
        "<a href=\"https://colab.research.google.com/github/nikhilach04/Nikhila/blob/main/Untitled10.ipynb\" target=\"_parent\"><img src=\"https://colab.research.google.com/assets/colab-badge.svg\" alt=\"Open In Colab\"/></a>"
      ]
    },
    {
      "cell_type": "code",
      "execution_count": null,
      "metadata": {
        "colab": {
          "base_uri": "https://localhost:8080/"
        },
        "id": "rWtA5760ACIU",
        "outputId": "91c0862e-345c-4a86-9066-6a60be72c4e8"
      },
      "outputs": [
        {
          "output_type": "stream",
          "name": "stdout",
          "text": [
            "Sorted Data: [9, 10, 12, 14, 15, 23, 42]\n",
            "Minimum: 9\n",
            "Maximum: 42\n",
            "Median: 14\n",
            "First Quartile (Q1): 10\n"
          ]
        }
      ],
      "source": [
        "import statistics\n",
        "\n",
        "def calculate_statistics(data):\n",
        "    data.sort()\n",
        "    minimum = data[0]\n",
        "    maximum = data[-1]\n",
        "    median = statistics.median(data)\n",
        "    q1 = statistics.median(data[:len(data)//2])\n",
        "\n",
        "    return data, minimum, maximum, median, q1\n",
        "\n",
        "data = [23, 42, 12, 10, 15, 14, 9]\n",
        "sorted_data, minimum, maximum, median, q1 = calculate_statistics(data)\n",
        "\n",
        "print(\"Sorted Data:\", sorted_data)\n",
        "print(\"Minimum:\", minimum)\n",
        "print(\"Maximum:\", maximum)\n",
        "print(\"Median:\", median)\n",
        "print(\"First Quartile (Q1):\", q1)\n"
      ]
    },
    {
      "cell_type": "code",
      "source": [
        "import numpy as np\n",
        "data = [10, 12, 14, 13, 100, 87, 5, 15, 16, 14, 13, 11]\n",
        "Q1 = np.percentile(data, 25)\n",
        "Q3 = np.percentile(data, 75)\n",
        "IQR = Q3 - Q1\n",
        "lower_bound = Q1 - 1.5 * IQR\n",
        "upper_bound = Q3 + 1.5 * IQR\n",
        "outliers = [x for x in data if x < lower_bound or x > upper_bound]\n",
        "print(f\"Q1 (25th percentile): {Q1}\")\n",
        "print(f\"Q3 (75th percentile): {Q3}\")\n",
        "print(f\"IQR: {IQR}\")\n",
        "print(f\"Lower Bound: {lower_bound}\")\n",
        "print(f\"Upper Bound: {upper_bound}\")\n",
        "print(f\"Outliers: {outliers}\")\n"
      ],
      "metadata": {
        "colab": {
          "base_uri": "https://localhost:8080/"
        },
        "id": "Ey1PjjKaFN7m",
        "outputId": "56663058-8607-4a07-ef60-bba492db4c57"
      },
      "execution_count": null,
      "outputs": [
        {
          "output_type": "stream",
          "name": "stdout",
          "text": [
            "Q1 (25th percentile): 11.75\n",
            "Q3 (75th percentile): 15.25\n",
            "IQR: 3.5\n",
            "Lower Bound: 6.5\n",
            "Upper Bound: 20.5\n",
            "Outliers: [100, 87, 5]\n"
          ]
        }
      ]
    },
    {
      "cell_type": "code",
      "source": [
        "import pandas as pd\n",
        "from sklearn.preprocessing import MinMaxScaler\n",
        "\n",
        "# Creating the dataset\n",
        "data = {\n",
        "    \"age\": [24, 30, 35, 40, 45],\n",
        "    \"height\": [160, 135, 120, 150, 175]\n",
        "}\n",
        "\n",
        "# Converting dictionary to DataFrame\n",
        "df = pd.DataFrame(data)\n",
        "\n",
        "# Initializing MinMaxScaler\n",
        "scaler = MinMaxScaler()\n",
        "\n",
        "# Applying MinMax scaling\n",
        "df_scaled = pd.DataFrame(scaler.fit_transform(df), columns=df.columns)\n",
        "\n",
        "# Display the scaled DataFrame\n",
        "print(df_scaled)"
      ],
      "metadata": {
        "id": "hG6v4utmK_2l",
        "colab": {
          "base_uri": "https://localhost:8080/"
        },
        "outputId": "ecf556bb-b92a-407c-ce4a-e578794c6547"
      },
      "execution_count": 1,
      "outputs": [
        {
          "output_type": "stream",
          "name": "stdout",
          "text": [
            "        age    height\n",
            "0  0.000000  0.727273\n",
            "1  0.285714  0.272727\n",
            "2  0.523810  0.000000\n",
            "3  0.761905  0.545455\n",
            "4  1.000000  1.000000\n"
          ]
        }
      ]
    },
    {
      "cell_type": "code",
      "source": [
        "import pandas as pd\n",
        "from sklearn.preprocessing import MinMaxScaler, StandardScaler\n",
        "\n",
        "# Creating the dataset\n",
        "data = {\n",
        "    \"age\": [24, 30, 35, 40, 45],\n",
        "    \"height\": [160, 135, 120, 150, 175]\n",
        "}\n",
        "\n",
        "# Converting dictionary to DataFrame\n",
        "df = pd.DataFrame(data)\n",
        "\n",
        "# 🔹 Normalization (Min-Max Scaling)\n",
        "min_max_scaler = MinMaxScaler()\n",
        "df_normalized = pd.DataFrame(min_max_scaler.fit_transform(df), columns=df.columns)\n",
        "\n",
        "# 🔹 Standardization (Z-Score Scaling)\n",
        "standard_scaler = StandardScaler()\n",
        "df_standardized = pd.DataFrame(standard_scaler.fit_transform(df), columns=df.columns)\n",
        "\n",
        "# Display results\n",
        "print(\"Original Data:\\n\", df)\n",
        "print(\"\\nNormalized Data (Min-Max Scaling):\\n\", df_normalized)\n",
        "print(\"\\nStandardized Data (Z-Score Scaling):\\n\", df_standardized)\n"
      ],
      "metadata": {
        "colab": {
          "base_uri": "https://localhost:8080/"
        },
        "id": "taHTpWXgVXT2",
        "outputId": "0868fe77-87aa-4a62-dcce-9a9963dc8b28"
      },
      "execution_count": 2,
      "outputs": [
        {
          "output_type": "stream",
          "name": "stdout",
          "text": [
            "Original Data:\n",
            "    age  height\n",
            "0   24     160\n",
            "1   30     135\n",
            "2   35     120\n",
            "3   40     150\n",
            "4   45     175\n",
            "\n",
            "Normalized Data (Min-Max Scaling):\n",
            "         age    height\n",
            "0  0.000000  0.727273\n",
            "1  0.285714  0.272727\n",
            "2  0.523810  0.000000\n",
            "3  0.761905  0.545455\n",
            "4  1.000000  1.000000\n",
            "\n",
            "Standardized Data (Z-Score Scaling):\n",
            "         age    height\n",
            "0 -1.467521  0.627250\n",
            "1 -0.652232 -0.679521\n",
            "2  0.027176 -1.463583\n",
            "3  0.706584  0.104542\n",
            "4  1.385992  1.411313\n"
          ]
        }
      ]
    },
    {
      "cell_type": "code",
      "source": [
        "import pandas as pd\n",
        "from sklearn.preprocessing import MinMaxScaler\n",
        "\n",
        "# Creating a dataset\n",
        "data = {\n",
        "    \"age\": [24, 30, 35, 40, 45],\n",
        "    \"height\": [160, 135, 120, 150, 175],\n",
        "    \"weight\": [60, 72, 80, 90, 100]\n",
        "}\n",
        "\n",
        "# Converting dictionary to DataFrame\n",
        "df = pd.DataFrame(data)\n",
        "\n",
        "# 🔹 Initialize MinMaxScaler\n",
        "scaler = MinMaxScaler()\n",
        "\n",
        "# 🔹 Apply MinMax Scaling\n",
        "df_normalized = pd.DataFrame(scaler.fit_transform(df), columns=df.columns)\n",
        "\n",
        "# Display results\n",
        "print(\"Original Data:\\n\", df)\n",
        "print(\"\\nNormalized Data (Min-Max Scaling):\\n\", df_normalized)"
      ],
      "metadata": {
        "colab": {
          "base_uri": "https://localhost:8080/"
        },
        "id": "aoOrLAbRVufM",
        "outputId": "85bc1761-b660-4f57-c6eb-4deb30591893"
      },
      "execution_count": 3,
      "outputs": [
        {
          "output_type": "stream",
          "name": "stdout",
          "text": [
            "Original Data:\n",
            "    age  height  weight\n",
            "0   24     160      60\n",
            "1   30     135      72\n",
            "2   35     120      80\n",
            "3   40     150      90\n",
            "4   45     175     100\n",
            "\n",
            "Normalized Data (Min-Max Scaling):\n",
            "         age    height  weight\n",
            "0  0.000000  0.727273    0.00\n",
            "1  0.285714  0.272727    0.30\n",
            "2  0.523810  0.000000    0.50\n",
            "3  0.761905  0.545455    0.75\n",
            "4  1.000000  1.000000    1.00\n"
          ]
        }
      ]
    }
  ]
}